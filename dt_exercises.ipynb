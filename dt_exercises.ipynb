{
 "cells": [
  {
   "cell_type": "code",
   "execution_count": 1,
   "id": "62725e5d",
   "metadata": {},
   "outputs": [],
   "source": [
    "import pandas as pd\n",
    "import numpy as np\n",
    "import matplotlib.pyplot as plt\n",
    "import seaborn as sb\n",
    "import sklearn.metrics as mets\n",
    "from pydataset import data\n",
    "import os\n",
    "import acquire_copy as acq\n",
    "from sklearn.model_selection import train_test_split\n",
    "from sklearn.impute import SimpleImputer\n",
    "from sklearn.tree import DecisionTreeClassifier,\\\n",
    "export_text,\\\n",
    "plot_tree\n",
    "from sklearn.metrics import accuracy_score, \\\n",
    "confusion_matrix,\\\n",
    "classification_report"
   ]
  },
  {
   "cell_type": "markdown",
   "id": "d97044bb",
   "metadata": {},
   "source": [
    "## EXERCISES\n",
    "\n",
    "Using the titanic data, in your classification-exercises repository, create a notebook, \n",
    "decision_tree.ipynb where you will do the following:\n",
    "    \n",
    "#### Exercise 1\n",
    "What is your baseline prediction? What is your baseline accuracy? remember: your baseline\n",
    "prediction for a classification problem is predicting the most prevelant class in the \n",
    "training dataset (the mode). When you make those predictions, what is your accuracy? \n",
    "This is your baseline accuracy.\n"
   ]
  },
  {
   "cell_type": "code",
   "execution_count": 7,
   "id": "eea2d6e8",
   "metadata": {},
   "outputs": [],
   "source": [
    "def get_titanic_data():\n",
    "    if os.path.isfile('titanic.csv'):\n",
    "        df = pd.read_csv('titanic.csv', index_col=0)\n",
    "    else:\n",
    "        query = \"\"\"select * from passengers\"\"\"\n",
    "        connection = connect('titanic_db')\n",
    "        df = pd.read_sql(query, connection)\n",
    "        df.to_csv('titanic.csv')\n",
    "    return df\n",
    "\n",
    "def prep_titanic(df):\n",
    "    \"\"\"This function preps data in the titanic csv (via the get_titanic_data() function\n",
    "    in acquire_copy) for future use in modeling\"\"\"\n",
    "    \n",
    "    #impute for missing values in age & embark town\n",
    "    df['age']=df['age'].fillna(df['age'].mean())\n",
    "    df['embark_town'] = df['embark_town'].fillna('Southampton')\n",
    "    # Make dummy variables for strings\n",
    "    dummy_df = pd.get_dummies(data=df[['sex','embark_town']], dummy_na=False, drop_first=False)\n",
    "    df = pd.concat([df, dummy_df], axis = 1)\n",
    "    # Drop non-essential columns\n",
    "    df=df.drop(columns=['embarked', 'passenger_id', 'class', 'deck', 'sex', 'embark_town'])\n",
    "\n",
    "    return df\n",
    "\n",
    "def split_titanic(df):\n",
    "    '''\n",
    "    take in a DataFrame and return train, validate, and test DataFrames; stratify on titanic.survived.\n",
    "    return train, validate, test DataFrames.\n",
    "    '''\n",
    "    train, test = train_test_split(df, test_size=.2, random_state=123, stratify=df.survived)\n",
    "    train, val = train_test_split(train, \n",
    "                                       test_size=.3, \n",
    "                                       random_state=123, \n",
    "                                       stratify=train.survived)\n",
    "    return train, val, test\n"
   ]
  },
  {
   "cell_type": "code",
   "execution_count": 8,
   "id": "96638a5d",
   "metadata": {},
   "outputs": [
    {
     "data": {
      "text/html": [
       "<div>\n",
       "<style scoped>\n",
       "    .dataframe tbody tr th:only-of-type {\n",
       "        vertical-align: middle;\n",
       "    }\n",
       "\n",
       "    .dataframe tbody tr th {\n",
       "        vertical-align: top;\n",
       "    }\n",
       "\n",
       "    .dataframe thead th {\n",
       "        text-align: right;\n",
       "    }\n",
       "</style>\n",
       "<table border=\"1\" class=\"dataframe\">\n",
       "  <thead>\n",
       "    <tr style=\"text-align: right;\">\n",
       "      <th></th>\n",
       "      <th>passenger_id</th>\n",
       "      <th>survived</th>\n",
       "      <th>pclass</th>\n",
       "      <th>sex</th>\n",
       "      <th>age</th>\n",
       "      <th>sibsp</th>\n",
       "      <th>parch</th>\n",
       "      <th>fare</th>\n",
       "      <th>embarked</th>\n",
       "      <th>class</th>\n",
       "      <th>deck</th>\n",
       "      <th>embark_town</th>\n",
       "      <th>alone</th>\n",
       "    </tr>\n",
       "  </thead>\n",
       "  <tbody>\n",
       "    <tr>\n",
       "      <th>0</th>\n",
       "      <td>0</td>\n",
       "      <td>0</td>\n",
       "      <td>3</td>\n",
       "      <td>male</td>\n",
       "      <td>22.0</td>\n",
       "      <td>1</td>\n",
       "      <td>0</td>\n",
       "      <td>7.2500</td>\n",
       "      <td>S</td>\n",
       "      <td>Third</td>\n",
       "      <td>NaN</td>\n",
       "      <td>Southampton</td>\n",
       "      <td>0</td>\n",
       "    </tr>\n",
       "    <tr>\n",
       "      <th>1</th>\n",
       "      <td>1</td>\n",
       "      <td>1</td>\n",
       "      <td>1</td>\n",
       "      <td>female</td>\n",
       "      <td>38.0</td>\n",
       "      <td>1</td>\n",
       "      <td>0</td>\n",
       "      <td>71.2833</td>\n",
       "      <td>C</td>\n",
       "      <td>First</td>\n",
       "      <td>C</td>\n",
       "      <td>Cherbourg</td>\n",
       "      <td>0</td>\n",
       "    </tr>\n",
       "    <tr>\n",
       "      <th>2</th>\n",
       "      <td>2</td>\n",
       "      <td>1</td>\n",
       "      <td>3</td>\n",
       "      <td>female</td>\n",
       "      <td>26.0</td>\n",
       "      <td>0</td>\n",
       "      <td>0</td>\n",
       "      <td>7.9250</td>\n",
       "      <td>S</td>\n",
       "      <td>Third</td>\n",
       "      <td>NaN</td>\n",
       "      <td>Southampton</td>\n",
       "      <td>1</td>\n",
       "    </tr>\n",
       "    <tr>\n",
       "      <th>3</th>\n",
       "      <td>3</td>\n",
       "      <td>1</td>\n",
       "      <td>1</td>\n",
       "      <td>female</td>\n",
       "      <td>35.0</td>\n",
       "      <td>1</td>\n",
       "      <td>0</td>\n",
       "      <td>53.1000</td>\n",
       "      <td>S</td>\n",
       "      <td>First</td>\n",
       "      <td>C</td>\n",
       "      <td>Southampton</td>\n",
       "      <td>0</td>\n",
       "    </tr>\n",
       "    <tr>\n",
       "      <th>4</th>\n",
       "      <td>4</td>\n",
       "      <td>0</td>\n",
       "      <td>3</td>\n",
       "      <td>male</td>\n",
       "      <td>35.0</td>\n",
       "      <td>0</td>\n",
       "      <td>0</td>\n",
       "      <td>8.0500</td>\n",
       "      <td>S</td>\n",
       "      <td>Third</td>\n",
       "      <td>NaN</td>\n",
       "      <td>Southampton</td>\n",
       "      <td>1</td>\n",
       "    </tr>\n",
       "    <tr>\n",
       "      <th>...</th>\n",
       "      <td>...</td>\n",
       "      <td>...</td>\n",
       "      <td>...</td>\n",
       "      <td>...</td>\n",
       "      <td>...</td>\n",
       "      <td>...</td>\n",
       "      <td>...</td>\n",
       "      <td>...</td>\n",
       "      <td>...</td>\n",
       "      <td>...</td>\n",
       "      <td>...</td>\n",
       "      <td>...</td>\n",
       "      <td>...</td>\n",
       "    </tr>\n",
       "    <tr>\n",
       "      <th>886</th>\n",
       "      <td>886</td>\n",
       "      <td>0</td>\n",
       "      <td>2</td>\n",
       "      <td>male</td>\n",
       "      <td>27.0</td>\n",
       "      <td>0</td>\n",
       "      <td>0</td>\n",
       "      <td>13.0000</td>\n",
       "      <td>S</td>\n",
       "      <td>Second</td>\n",
       "      <td>NaN</td>\n",
       "      <td>Southampton</td>\n",
       "      <td>1</td>\n",
       "    </tr>\n",
       "    <tr>\n",
       "      <th>887</th>\n",
       "      <td>887</td>\n",
       "      <td>1</td>\n",
       "      <td>1</td>\n",
       "      <td>female</td>\n",
       "      <td>19.0</td>\n",
       "      <td>0</td>\n",
       "      <td>0</td>\n",
       "      <td>30.0000</td>\n",
       "      <td>S</td>\n",
       "      <td>First</td>\n",
       "      <td>B</td>\n",
       "      <td>Southampton</td>\n",
       "      <td>1</td>\n",
       "    </tr>\n",
       "    <tr>\n",
       "      <th>888</th>\n",
       "      <td>888</td>\n",
       "      <td>0</td>\n",
       "      <td>3</td>\n",
       "      <td>female</td>\n",
       "      <td>NaN</td>\n",
       "      <td>1</td>\n",
       "      <td>2</td>\n",
       "      <td>23.4500</td>\n",
       "      <td>S</td>\n",
       "      <td>Third</td>\n",
       "      <td>NaN</td>\n",
       "      <td>Southampton</td>\n",
       "      <td>0</td>\n",
       "    </tr>\n",
       "    <tr>\n",
       "      <th>889</th>\n",
       "      <td>889</td>\n",
       "      <td>1</td>\n",
       "      <td>1</td>\n",
       "      <td>male</td>\n",
       "      <td>26.0</td>\n",
       "      <td>0</td>\n",
       "      <td>0</td>\n",
       "      <td>30.0000</td>\n",
       "      <td>C</td>\n",
       "      <td>First</td>\n",
       "      <td>C</td>\n",
       "      <td>Cherbourg</td>\n",
       "      <td>1</td>\n",
       "    </tr>\n",
       "    <tr>\n",
       "      <th>890</th>\n",
       "      <td>890</td>\n",
       "      <td>0</td>\n",
       "      <td>3</td>\n",
       "      <td>male</td>\n",
       "      <td>32.0</td>\n",
       "      <td>0</td>\n",
       "      <td>0</td>\n",
       "      <td>7.7500</td>\n",
       "      <td>Q</td>\n",
       "      <td>Third</td>\n",
       "      <td>NaN</td>\n",
       "      <td>Queenstown</td>\n",
       "      <td>1</td>\n",
       "    </tr>\n",
       "  </tbody>\n",
       "</table>\n",
       "<p>891 rows × 13 columns</p>\n",
       "</div>"
      ],
      "text/plain": [
       "     passenger_id  survived  pclass     sex   age  sibsp  parch     fare  \\\n",
       "0               0         0       3    male  22.0      1      0   7.2500   \n",
       "1               1         1       1  female  38.0      1      0  71.2833   \n",
       "2               2         1       3  female  26.0      0      0   7.9250   \n",
       "3               3         1       1  female  35.0      1      0  53.1000   \n",
       "4               4         0       3    male  35.0      0      0   8.0500   \n",
       "..            ...       ...     ...     ...   ...    ...    ...      ...   \n",
       "886           886         0       2    male  27.0      0      0  13.0000   \n",
       "887           887         1       1  female  19.0      0      0  30.0000   \n",
       "888           888         0       3  female   NaN      1      2  23.4500   \n",
       "889           889         1       1    male  26.0      0      0  30.0000   \n",
       "890           890         0       3    male  32.0      0      0   7.7500   \n",
       "\n",
       "    embarked   class deck  embark_town  alone  \n",
       "0          S   Third  NaN  Southampton      0  \n",
       "1          C   First    C    Cherbourg      0  \n",
       "2          S   Third  NaN  Southampton      1  \n",
       "3          S   First    C  Southampton      0  \n",
       "4          S   Third  NaN  Southampton      1  \n",
       "..       ...     ...  ...          ...    ...  \n",
       "886        S  Second  NaN  Southampton      1  \n",
       "887        S   First    B  Southampton      1  \n",
       "888        S   Third  NaN  Southampton      0  \n",
       "889        C   First    C    Cherbourg      1  \n",
       "890        Q   Third  NaN   Queenstown      1  \n",
       "\n",
       "[891 rows x 13 columns]"
      ]
     },
     "execution_count": 8,
     "metadata": {},
     "output_type": "execute_result"
    }
   ],
   "source": [
    "tdf= get_titanic_data()\n",
    "tdf"
   ]
  },
  {
   "cell_type": "code",
   "execution_count": 9,
   "id": "6025dcb6",
   "metadata": {},
   "outputs": [],
   "source": [
    "tdf = prep_titanic(tdf)"
   ]
  },
  {
   "cell_type": "code",
   "execution_count": 10,
   "id": "720fc11f",
   "metadata": {},
   "outputs": [
    {
     "data": {
      "text/html": [
       "<div>\n",
       "<style scoped>\n",
       "    .dataframe tbody tr th:only-of-type {\n",
       "        vertical-align: middle;\n",
       "    }\n",
       "\n",
       "    .dataframe tbody tr th {\n",
       "        vertical-align: top;\n",
       "    }\n",
       "\n",
       "    .dataframe thead th {\n",
       "        text-align: right;\n",
       "    }\n",
       "</style>\n",
       "<table border=\"1\" class=\"dataframe\">\n",
       "  <thead>\n",
       "    <tr style=\"text-align: right;\">\n",
       "      <th></th>\n",
       "      <th>survived</th>\n",
       "      <th>pclass</th>\n",
       "      <th>age</th>\n",
       "      <th>sibsp</th>\n",
       "      <th>parch</th>\n",
       "      <th>fare</th>\n",
       "      <th>alone</th>\n",
       "      <th>sex_female</th>\n",
       "      <th>sex_male</th>\n",
       "      <th>embark_town_Cherbourg</th>\n",
       "      <th>embark_town_Queenstown</th>\n",
       "      <th>embark_town_Southampton</th>\n",
       "    </tr>\n",
       "  </thead>\n",
       "  <tbody>\n",
       "    <tr>\n",
       "      <th>0</th>\n",
       "      <td>0</td>\n",
       "      <td>3</td>\n",
       "      <td>22.0</td>\n",
       "      <td>1</td>\n",
       "      <td>0</td>\n",
       "      <td>7.2500</td>\n",
       "      <td>0</td>\n",
       "      <td>0</td>\n",
       "      <td>1</td>\n",
       "      <td>0</td>\n",
       "      <td>0</td>\n",
       "      <td>1</td>\n",
       "    </tr>\n",
       "    <tr>\n",
       "      <th>1</th>\n",
       "      <td>1</td>\n",
       "      <td>1</td>\n",
       "      <td>38.0</td>\n",
       "      <td>1</td>\n",
       "      <td>0</td>\n",
       "      <td>71.2833</td>\n",
       "      <td>0</td>\n",
       "      <td>1</td>\n",
       "      <td>0</td>\n",
       "      <td>1</td>\n",
       "      <td>0</td>\n",
       "      <td>0</td>\n",
       "    </tr>\n",
       "    <tr>\n",
       "      <th>2</th>\n",
       "      <td>1</td>\n",
       "      <td>3</td>\n",
       "      <td>26.0</td>\n",
       "      <td>0</td>\n",
       "      <td>0</td>\n",
       "      <td>7.9250</td>\n",
       "      <td>1</td>\n",
       "      <td>1</td>\n",
       "      <td>0</td>\n",
       "      <td>0</td>\n",
       "      <td>0</td>\n",
       "      <td>1</td>\n",
       "    </tr>\n",
       "    <tr>\n",
       "      <th>3</th>\n",
       "      <td>1</td>\n",
       "      <td>1</td>\n",
       "      <td>35.0</td>\n",
       "      <td>1</td>\n",
       "      <td>0</td>\n",
       "      <td>53.1000</td>\n",
       "      <td>0</td>\n",
       "      <td>1</td>\n",
       "      <td>0</td>\n",
       "      <td>0</td>\n",
       "      <td>0</td>\n",
       "      <td>1</td>\n",
       "    </tr>\n",
       "    <tr>\n",
       "      <th>4</th>\n",
       "      <td>0</td>\n",
       "      <td>3</td>\n",
       "      <td>35.0</td>\n",
       "      <td>0</td>\n",
       "      <td>0</td>\n",
       "      <td>8.0500</td>\n",
       "      <td>1</td>\n",
       "      <td>0</td>\n",
       "      <td>1</td>\n",
       "      <td>0</td>\n",
       "      <td>0</td>\n",
       "      <td>1</td>\n",
       "    </tr>\n",
       "  </tbody>\n",
       "</table>\n",
       "</div>"
      ],
      "text/plain": [
       "   survived  pclass   age  sibsp  parch     fare  alone  sex_female  sex_male  \\\n",
       "0         0       3  22.0      1      0   7.2500      0           0         1   \n",
       "1         1       1  38.0      1      0  71.2833      0           1         0   \n",
       "2         1       3  26.0      0      0   7.9250      1           1         0   \n",
       "3         1       1  35.0      1      0  53.1000      0           1         0   \n",
       "4         0       3  35.0      0      0   8.0500      1           0         1   \n",
       "\n",
       "   embark_town_Cherbourg  embark_town_Queenstown  embark_town_Southampton  \n",
       "0                      0                       0                        1  \n",
       "1                      1                       0                        0  \n",
       "2                      0                       0                        1  \n",
       "3                      0                       0                        1  \n",
       "4                      0                       0                        1  "
      ]
     },
     "execution_count": 10,
     "metadata": {},
     "output_type": "execute_result"
    }
   ],
   "source": [
    "tdf.head()"
   ]
  },
  {
   "cell_type": "code",
   "execution_count": 13,
   "id": "e4a03ef4",
   "metadata": {},
   "outputs": [],
   "source": [
    "train, val, test = split_titanic(tdf)"
   ]
  },
  {
   "cell_type": "markdown",
   "id": "79102bb4",
   "metadata": {},
   "source": [
    "**Exercise 1.1**: What is your baseline prediction? \n",
    "              What is your baseline accuracy?\n",
    "    \n",
    "    "
   ]
  },
  {
   "cell_type": "markdown",
   "id": "bce74171",
   "metadata": {},
   "source": [
    "#### NOTES:\n",
    "\n",
    "1. X_train \tDataframe, Feature:  Feature selection, fit models, make predictions\n",
    "2. y_train \tSeries, Target: \tFeature selection, evaluate model predictions\n",
    "3. X_validate \tDataframe, Features:\tMake predictions using top models\n",
    "4. y_validate \tSeries, Target:\tEvaluate model predictions made from X_validate to assess overfitting\n",
    "5. X_test \tDataframe, Features:\tMake predictions using best model\n",
    "6. y_test \tSeries, Target: \tEvaluate model predictions made from X_test to estimate future performance on new data\n",
    "\n",
    "(Source: Codeup Lesson: Decsion Tree)"
   ]
  },
  {
   "cell_type": "code",
   "execution_count": 44,
   "id": "1d8d7e45-3389-4d32-ac85-4279697f4376",
   "metadata": {},
   "outputs": [],
   "source": [
    "X_train, X_val, X_test = train.drop(columns='survived'), val.drop(columns='survived'), test.drop(columns='survived')\n",
    "y_train, y_val, y_test = train.survived, val.survived, test.survived"
   ]
  },
  {
   "cell_type": "code",
   "execution_count": 43,
   "id": "1db7996f-54ea-40e2-879c-66612c9e05ce",
   "metadata": {},
   "outputs": [
    {
     "data": {
      "text/html": [
       "<div>\n",
       "<style scoped>\n",
       "    .dataframe tbody tr th:only-of-type {\n",
       "        vertical-align: middle;\n",
       "    }\n",
       "\n",
       "    .dataframe tbody tr th {\n",
       "        vertical-align: top;\n",
       "    }\n",
       "\n",
       "    .dataframe thead th {\n",
       "        text-align: right;\n",
       "    }\n",
       "</style>\n",
       "<table border=\"1\" class=\"dataframe\">\n",
       "  <thead>\n",
       "    <tr style=\"text-align: right;\">\n",
       "      <th></th>\n",
       "      <th>pclass</th>\n",
       "      <th>age</th>\n",
       "      <th>sibsp</th>\n",
       "      <th>parch</th>\n",
       "      <th>fare</th>\n",
       "      <th>alone</th>\n",
       "      <th>sex_female</th>\n",
       "      <th>sex_male</th>\n",
       "      <th>embark_town_Cherbourg</th>\n",
       "      <th>embark_town_Queenstown</th>\n",
       "      <th>embark_town_Southampton</th>\n",
       "    </tr>\n",
       "  </thead>\n",
       "  <tbody>\n",
       "    <tr>\n",
       "      <th>610</th>\n",
       "      <td>3</td>\n",
       "      <td>39.0</td>\n",
       "      <td>1</td>\n",
       "      <td>5</td>\n",
       "      <td>31.2750</td>\n",
       "      <td>0</td>\n",
       "      <td>1</td>\n",
       "      <td>0</td>\n",
       "      <td>0</td>\n",
       "      <td>0</td>\n",
       "      <td>1</td>\n",
       "    </tr>\n",
       "    <tr>\n",
       "      <th>424</th>\n",
       "      <td>3</td>\n",
       "      <td>18.0</td>\n",
       "      <td>1</td>\n",
       "      <td>1</td>\n",
       "      <td>20.2125</td>\n",
       "      <td>0</td>\n",
       "      <td>0</td>\n",
       "      <td>1</td>\n",
       "      <td>0</td>\n",
       "      <td>0</td>\n",
       "      <td>1</td>\n",
       "    </tr>\n",
       "  </tbody>\n",
       "</table>\n",
       "</div>"
      ],
      "text/plain": [
       "     pclass   age  sibsp  parch     fare  alone  sex_female  sex_male  \\\n",
       "610       3  39.0      1      5  31.2750      0           1         0   \n",
       "424       3  18.0      1      1  20.2125      0           0         1   \n",
       "\n",
       "     embark_town_Cherbourg  embark_town_Queenstown  embark_town_Southampton  \n",
       "610                      0                       0                        1  \n",
       "424                      0                       0                        1  "
      ]
     },
     "execution_count": 43,
     "metadata": {},
     "output_type": "execute_result"
    }
   ],
   "source": [
    "X_val.head(2)"
   ]
  },
  {
   "cell_type": "code",
   "execution_count": 25,
   "id": "3b790342-f37f-4d0e-a28d-a44ad7467bdc",
   "metadata": {},
   "outputs": [
    {
     "data": {
      "text/plain": [
       "(0    307\n",
       " 1    191\n",
       " Name: survived, dtype: int64,\n",
       " 0    307\n",
       " 1    191\n",
       " Name: survived, dtype: int64)"
      ]
     },
     "execution_count": 25,
     "metadata": {},
     "output_type": "execute_result"
    }
   ],
   "source": [
    "train.survived.value_counts(), y_train.value_counts()"
   ]
  },
  {
   "cell_type": "code",
   "execution_count": 26,
   "id": "0190f1fb",
   "metadata": {},
   "outputs": [
    {
     "name": "stdout",
     "output_type": "stream",
     "text": [
      "The baseline prediction is '0'(did not survive) and the \n",
      "        baseline accuracy is 61.65% \n"
     ]
    }
   ],
   "source": [
    "# Baseline prediction is usually set to find the most common occurance\n",
    "\n",
    "# Baseline prediction = death\n",
    "\n",
    "# Baseline accuracy is percentage value of baseline prediction/ total\n",
    "\n",
    "total = 191+307\n",
    "\n",
    "baseline_acc= 307/total\n",
    "print(f'''The baseline prediction is '0'(did not survive) and the \n",
    "        baseline accuracy is {baseline_acc:.2%} ''')"
   ]
  },
  {
   "cell_type": "code",
   "execution_count": 30,
   "id": "19b92f59",
   "metadata": {},
   "outputs": [],
   "source": [
    "base_pred = (y_train == 0)"
   ]
  },
  {
   "cell_type": "code",
   "execution_count": 32,
   "id": "010d7405",
   "metadata": {},
   "outputs": [
    {
     "data": {
      "text/plain": [
       "True     307\n",
       "False    191\n",
       "Name: survived, dtype: int64"
      ]
     },
     "execution_count": 32,
     "metadata": {},
     "output_type": "execute_result"
    }
   ],
   "source": [
    "# Gives me a count of how many deaths I have in my train set\n",
    "base_pred.value_counts()"
   ]
  },
  {
   "cell_type": "code",
   "execution_count": 42,
   "id": "844be515",
   "metadata": {},
   "outputs": [
    {
     "ename": "KeyError",
     "evalue": "\"['bl_pred'] not found in axis\"",
     "output_type": "error",
     "traceback": [
      "\u001b[0;31m---------------------------------------------------------------------------\u001b[0m",
      "\u001b[0;31mKeyError\u001b[0m                                  Traceback (most recent call last)",
      "\u001b[0;32m/var/folders/3f/gcykrn_x5kj_vxldk0lkx7p00000gn/T/ipykernel_86832/3251570658.py\u001b[0m in \u001b[0;36m<module>\u001b[0;34m\u001b[0m\n\u001b[0;32m----> 1\u001b[0;31m \u001b[0mtrain\u001b[0m \u001b[0;34m=\u001b[0m \u001b[0mtrain\u001b[0m\u001b[0;34m.\u001b[0m\u001b[0mdrop\u001b[0m\u001b[0;34m(\u001b[0m\u001b[0mcolumns\u001b[0m\u001b[0;34m=\u001b[0m\u001b[0;34m'bl_pred'\u001b[0m\u001b[0;34m)\u001b[0m\u001b[0;34m\u001b[0m\u001b[0;34m\u001b[0m\u001b[0m\n\u001b[0m\u001b[1;32m      2\u001b[0m \u001b[0mtrain\u001b[0m\u001b[0;34m.\u001b[0m\u001b[0mhead\u001b[0m\u001b[0;34m(\u001b[0m\u001b[0;36m2\u001b[0m\u001b[0;34m)\u001b[0m\u001b[0;34m\u001b[0m\u001b[0;34m\u001b[0m\u001b[0m\n",
      "\u001b[0;32m~/opt/anaconda3/lib/python3.9/site-packages/pandas/util/_decorators.py\u001b[0m in \u001b[0;36mwrapper\u001b[0;34m(*args, **kwargs)\u001b[0m\n\u001b[1;32m    309\u001b[0m                     \u001b[0mstacklevel\u001b[0m\u001b[0;34m=\u001b[0m\u001b[0mstacklevel\u001b[0m\u001b[0;34m,\u001b[0m\u001b[0;34m\u001b[0m\u001b[0;34m\u001b[0m\u001b[0m\n\u001b[1;32m    310\u001b[0m                 )\n\u001b[0;32m--> 311\u001b[0;31m             \u001b[0;32mreturn\u001b[0m \u001b[0mfunc\u001b[0m\u001b[0;34m(\u001b[0m\u001b[0;34m*\u001b[0m\u001b[0margs\u001b[0m\u001b[0;34m,\u001b[0m \u001b[0;34m**\u001b[0m\u001b[0mkwargs\u001b[0m\u001b[0;34m)\u001b[0m\u001b[0;34m\u001b[0m\u001b[0;34m\u001b[0m\u001b[0m\n\u001b[0m\u001b[1;32m    312\u001b[0m \u001b[0;34m\u001b[0m\u001b[0m\n\u001b[1;32m    313\u001b[0m         \u001b[0;32mreturn\u001b[0m \u001b[0mwrapper\u001b[0m\u001b[0;34m\u001b[0m\u001b[0;34m\u001b[0m\u001b[0m\n",
      "\u001b[0;32m~/opt/anaconda3/lib/python3.9/site-packages/pandas/core/frame.py\u001b[0m in \u001b[0;36mdrop\u001b[0;34m(self, labels, axis, index, columns, level, inplace, errors)\u001b[0m\n\u001b[1;32m   4955\u001b[0m                 \u001b[0mweight\u001b[0m  \u001b[0;36m1.0\u001b[0m     \u001b[0;36m0.8\u001b[0m\u001b[0;34m\u001b[0m\u001b[0;34m\u001b[0m\u001b[0m\n\u001b[1;32m   4956\u001b[0m         \"\"\"\n\u001b[0;32m-> 4957\u001b[0;31m         return super().drop(\n\u001b[0m\u001b[1;32m   4958\u001b[0m             \u001b[0mlabels\u001b[0m\u001b[0;34m=\u001b[0m\u001b[0mlabels\u001b[0m\u001b[0;34m,\u001b[0m\u001b[0;34m\u001b[0m\u001b[0;34m\u001b[0m\u001b[0m\n\u001b[1;32m   4959\u001b[0m             \u001b[0maxis\u001b[0m\u001b[0;34m=\u001b[0m\u001b[0maxis\u001b[0m\u001b[0;34m,\u001b[0m\u001b[0;34m\u001b[0m\u001b[0;34m\u001b[0m\u001b[0m\n",
      "\u001b[0;32m~/opt/anaconda3/lib/python3.9/site-packages/pandas/core/generic.py\u001b[0m in \u001b[0;36mdrop\u001b[0;34m(self, labels, axis, index, columns, level, inplace, errors)\u001b[0m\n\u001b[1;32m   4265\u001b[0m         \u001b[0;32mfor\u001b[0m \u001b[0maxis\u001b[0m\u001b[0;34m,\u001b[0m \u001b[0mlabels\u001b[0m \u001b[0;32min\u001b[0m \u001b[0maxes\u001b[0m\u001b[0;34m.\u001b[0m\u001b[0mitems\u001b[0m\u001b[0;34m(\u001b[0m\u001b[0;34m)\u001b[0m\u001b[0;34m:\u001b[0m\u001b[0;34m\u001b[0m\u001b[0;34m\u001b[0m\u001b[0m\n\u001b[1;32m   4266\u001b[0m             \u001b[0;32mif\u001b[0m \u001b[0mlabels\u001b[0m \u001b[0;32mis\u001b[0m \u001b[0;32mnot\u001b[0m \u001b[0;32mNone\u001b[0m\u001b[0;34m:\u001b[0m\u001b[0;34m\u001b[0m\u001b[0;34m\u001b[0m\u001b[0m\n\u001b[0;32m-> 4267\u001b[0;31m                 \u001b[0mobj\u001b[0m \u001b[0;34m=\u001b[0m \u001b[0mobj\u001b[0m\u001b[0;34m.\u001b[0m\u001b[0m_drop_axis\u001b[0m\u001b[0;34m(\u001b[0m\u001b[0mlabels\u001b[0m\u001b[0;34m,\u001b[0m \u001b[0maxis\u001b[0m\u001b[0;34m,\u001b[0m \u001b[0mlevel\u001b[0m\u001b[0;34m=\u001b[0m\u001b[0mlevel\u001b[0m\u001b[0;34m,\u001b[0m \u001b[0merrors\u001b[0m\u001b[0;34m=\u001b[0m\u001b[0merrors\u001b[0m\u001b[0;34m)\u001b[0m\u001b[0;34m\u001b[0m\u001b[0;34m\u001b[0m\u001b[0m\n\u001b[0m\u001b[1;32m   4268\u001b[0m \u001b[0;34m\u001b[0m\u001b[0m\n\u001b[1;32m   4269\u001b[0m         \u001b[0;32mif\u001b[0m \u001b[0minplace\u001b[0m\u001b[0;34m:\u001b[0m\u001b[0;34m\u001b[0m\u001b[0;34m\u001b[0m\u001b[0m\n",
      "\u001b[0;32m~/opt/anaconda3/lib/python3.9/site-packages/pandas/core/generic.py\u001b[0m in \u001b[0;36m_drop_axis\u001b[0;34m(self, labels, axis, level, errors, consolidate, only_slice)\u001b[0m\n\u001b[1;32m   4309\u001b[0m                 \u001b[0mnew_axis\u001b[0m \u001b[0;34m=\u001b[0m \u001b[0maxis\u001b[0m\u001b[0;34m.\u001b[0m\u001b[0mdrop\u001b[0m\u001b[0;34m(\u001b[0m\u001b[0mlabels\u001b[0m\u001b[0;34m,\u001b[0m \u001b[0mlevel\u001b[0m\u001b[0;34m=\u001b[0m\u001b[0mlevel\u001b[0m\u001b[0;34m,\u001b[0m \u001b[0merrors\u001b[0m\u001b[0;34m=\u001b[0m\u001b[0merrors\u001b[0m\u001b[0;34m)\u001b[0m\u001b[0;34m\u001b[0m\u001b[0;34m\u001b[0m\u001b[0m\n\u001b[1;32m   4310\u001b[0m             \u001b[0;32melse\u001b[0m\u001b[0;34m:\u001b[0m\u001b[0;34m\u001b[0m\u001b[0;34m\u001b[0m\u001b[0m\n\u001b[0;32m-> 4311\u001b[0;31m                 \u001b[0mnew_axis\u001b[0m \u001b[0;34m=\u001b[0m \u001b[0maxis\u001b[0m\u001b[0;34m.\u001b[0m\u001b[0mdrop\u001b[0m\u001b[0;34m(\u001b[0m\u001b[0mlabels\u001b[0m\u001b[0;34m,\u001b[0m \u001b[0merrors\u001b[0m\u001b[0;34m=\u001b[0m\u001b[0merrors\u001b[0m\u001b[0;34m)\u001b[0m\u001b[0;34m\u001b[0m\u001b[0;34m\u001b[0m\u001b[0m\n\u001b[0m\u001b[1;32m   4312\u001b[0m             \u001b[0mindexer\u001b[0m \u001b[0;34m=\u001b[0m \u001b[0maxis\u001b[0m\u001b[0;34m.\u001b[0m\u001b[0mget_indexer\u001b[0m\u001b[0;34m(\u001b[0m\u001b[0mnew_axis\u001b[0m\u001b[0;34m)\u001b[0m\u001b[0;34m\u001b[0m\u001b[0;34m\u001b[0m\u001b[0m\n\u001b[1;32m   4313\u001b[0m \u001b[0;34m\u001b[0m\u001b[0m\n",
      "\u001b[0;32m~/opt/anaconda3/lib/python3.9/site-packages/pandas/core/indexes/base.py\u001b[0m in \u001b[0;36mdrop\u001b[0;34m(self, labels, errors)\u001b[0m\n\u001b[1;32m   6659\u001b[0m         \u001b[0;32mif\u001b[0m \u001b[0mmask\u001b[0m\u001b[0;34m.\u001b[0m\u001b[0many\u001b[0m\u001b[0;34m(\u001b[0m\u001b[0;34m)\u001b[0m\u001b[0;34m:\u001b[0m\u001b[0;34m\u001b[0m\u001b[0;34m\u001b[0m\u001b[0m\n\u001b[1;32m   6660\u001b[0m             \u001b[0;32mif\u001b[0m \u001b[0merrors\u001b[0m \u001b[0;34m!=\u001b[0m \u001b[0;34m\"ignore\"\u001b[0m\u001b[0;34m:\u001b[0m\u001b[0;34m\u001b[0m\u001b[0;34m\u001b[0m\u001b[0m\n\u001b[0;32m-> 6661\u001b[0;31m                 \u001b[0;32mraise\u001b[0m \u001b[0mKeyError\u001b[0m\u001b[0;34m(\u001b[0m\u001b[0;34mf\"{list(labels[mask])} not found in axis\"\u001b[0m\u001b[0;34m)\u001b[0m\u001b[0;34m\u001b[0m\u001b[0;34m\u001b[0m\u001b[0m\n\u001b[0m\u001b[1;32m   6662\u001b[0m             \u001b[0mindexer\u001b[0m \u001b[0;34m=\u001b[0m \u001b[0mindexer\u001b[0m\u001b[0;34m[\u001b[0m\u001b[0;34m~\u001b[0m\u001b[0mmask\u001b[0m\u001b[0;34m]\u001b[0m\u001b[0;34m\u001b[0m\u001b[0;34m\u001b[0m\u001b[0m\n\u001b[1;32m   6663\u001b[0m         \u001b[0;32mreturn\u001b[0m \u001b[0mself\u001b[0m\u001b[0;34m.\u001b[0m\u001b[0mdelete\u001b[0m\u001b[0;34m(\u001b[0m\u001b[0mindexer\u001b[0m\u001b[0;34m)\u001b[0m\u001b[0;34m\u001b[0m\u001b[0;34m\u001b[0m\u001b[0m\n",
      "\u001b[0;31mKeyError\u001b[0m: \"['bl_pred'] not found in axis\""
     ]
    }
   ],
   "source": [
    "train = train.drop(columns='bl_pred')\n",
    "train.head(2)"
   ]
  },
  {
   "cell_type": "markdown",
   "id": "b90e1a47-8f79-4cc0-9ea6-241ff285dfcb",
   "metadata": {},
   "source": [
    "**Baseline Prediction:** 0/ Did not survive\n",
    "\n",
    "**Baseline Accuracy:** 61.65%"
   ]
  },
  {
   "cell_type": "markdown",
   "id": "32d5fb71",
   "metadata": {},
   "source": [
    "#### Exercise 2\n",
    "Fit the decision tree classifier to your training sample and transform (i.e. make predictions on the training sample)"
   ]
  },
  {
   "cell_type": "code",
   "execution_count": 46,
   "id": "1dfc9b47",
   "metadata": {},
   "outputs": [],
   "source": [
    "# Make the thing\n",
    "treebeard = DecisionTreeClassifier(max_depth=3, random_state=123)"
   ]
  },
  {
   "cell_type": "code",
   "execution_count": 47,
   "id": "bc26c5d0",
   "metadata": {},
   "outputs": [],
   "source": [
    "# Fit the thing\n",
    "treebeard = treebeard.fit(X_train, y_train)"
   ]
  },
  {
   "cell_type": "code",
   "execution_count": 51,
   "id": "ff571dc1-ffea-4a25-8734-e67598e86de0",
   "metadata": {},
   "outputs": [],
   "source": [
    "# Predict the thing on **X_train**\n",
    "y_preds = treebeard.predict(X_train)"
   ]
  },
  {
   "cell_type": "code",
   "execution_count": 49,
   "id": "f5801ad6-f86c-4548-a69b-814beef43f34",
   "metadata": {},
   "outputs": [
    {
     "data": {
      "image/png": "[encoded data removed]",
      "text/plain": [
       "<Figure size 640x480 with 1 Axes>"
      ]
     },
     "metadata": {},
     "output_type": "display_data"
    }
   ],
   "source": [
    "plot_tree(treebeard, feature_names=X_train.columns, class_names = ['0', '1'])\n",
    "plt.show()"
   ]
  },
  {
   "cell_type": "markdown",
   "id": "adac2092-6f88-4a38-982a-b1541eb81a37",
   "metadata": {},
   "source": [
    "#### Exercise 3\n",
    "\n",
    "Evaluate your in-sample results using the model score, confusion matrix, and classification report."
   ]
  },
  {
   "cell_type": "code",
   "execution_count": 58,
   "id": "59e14343-45ee-4411-9773-5d4d51c3d2c0",
   "metadata": {},
   "outputs": [
    {
     "name": "stdout",
     "output_type": "stream",
     "text": [
      " Model Score:0.83\n"
     ]
    }
   ],
   "source": [
    "print(f' Model Score:{round(accuracy_score(y_train, y_preds), 2)}')\n",
    "\n",
    "# alternatively,\n",
    "# treebeard.score(X_train, y_train)"
   ]
  },
  {
   "cell_type": "code",
   "execution_count": 56,
   "id": "99e88089-b34c-4ed8-b57b-8628e63bedc3",
   "metadata": {},
   "outputs": [
    {
     "name": "stdout",
     "output_type": "stream",
     "text": [
      "              precision    recall  f1-score   support\n",
      "\n",
      "           0       0.83      0.90      0.86       307\n",
      "           1       0.82      0.70      0.75       191\n",
      "\n",
      "    accuracy                           0.83       498\n",
      "   macro avg       0.82      0.80      0.81       498\n",
      "weighted avg       0.82      0.83      0.82       498\n",
      "\n"
     ]
    }
   ],
   "source": [
    "print(classification_report(y_train, y_preds))"
   ]
  },
  {
   "cell_type": "code",
   "execution_count": 74,
   "id": "2805d67b-43aa-4a05-9b25-bc20e1a605c2",
   "metadata": {},
   "outputs": [],
   "source": [
    "classr = classification_report(y_train, y_preds, output_dict=True)"
   ]
  },
  {
   "cell_type": "code",
   "execution_count": 76,
   "id": "660fff1f-2a66-4cb1-9ae2-0117e098af57",
   "metadata": {},
   "outputs": [
    {
     "data": {
      "text/html": [
       "<div>\n",
       "<style scoped>\n",
       "    .dataframe tbody tr th:only-of-type {\n",
       "        vertical-align: middle;\n",
       "    }\n",
       "\n",
       "    .dataframe tbody tr th {\n",
       "        vertical-align: top;\n",
       "    }\n",
       "\n",
       "    .dataframe thead th {\n",
       "        text-align: right;\n",
       "    }\n",
       "</style>\n",
       "<table border=\"1\" class=\"dataframe\">\n",
       "  <thead>\n",
       "    <tr style=\"text-align: right;\">\n",
       "      <th></th>\n",
       "      <th>precision</th>\n",
       "      <th>recall</th>\n",
       "      <th>f1-score</th>\n",
       "      <th>support</th>\n",
       "    </tr>\n",
       "  </thead>\n",
       "  <tbody>\n",
       "    <tr>\n",
       "      <th>0</th>\n",
       "      <td>0.829341</td>\n",
       "      <td>0.902280</td>\n",
       "      <td>0.864275</td>\n",
       "      <td>307.000000</td>\n",
       "    </tr>\n",
       "    <tr>\n",
       "      <th>1</th>\n",
       "      <td>0.817073</td>\n",
       "      <td>0.701571</td>\n",
       "      <td>0.754930</td>\n",
       "      <td>191.000000</td>\n",
       "    </tr>\n",
       "    <tr>\n",
       "      <th>accuracy</th>\n",
       "      <td>0.825301</td>\n",
       "      <td>0.825301</td>\n",
       "      <td>0.825301</td>\n",
       "      <td>0.825301</td>\n",
       "    </tr>\n",
       "    <tr>\n",
       "      <th>macro avg</th>\n",
       "      <td>0.823207</td>\n",
       "      <td>0.801925</td>\n",
       "      <td>0.809602</td>\n",
       "      <td>498.000000</td>\n",
       "    </tr>\n",
       "    <tr>\n",
       "      <th>weighted avg</th>\n",
       "      <td>0.824636</td>\n",
       "      <td>0.825301</td>\n",
       "      <td>0.822337</td>\n",
       "      <td>498.000000</td>\n",
       "    </tr>\n",
       "  </tbody>\n",
       "</table>\n",
       "</div>"
      ],
      "text/plain": [
       "              precision    recall  f1-score     support\n",
       "0              0.829341  0.902280  0.864275  307.000000\n",
       "1              0.817073  0.701571  0.754930  191.000000\n",
       "accuracy       0.825301  0.825301  0.825301    0.825301\n",
       "macro avg      0.823207  0.801925  0.809602  498.000000\n",
       "weighted avg   0.824636  0.825301  0.822337  498.000000"
      ]
     },
     "execution_count": 76,
     "metadata": {},
     "output_type": "execute_result"
    }
   ],
   "source": [
    "#Make it into a dataframe for easier readability\n",
    "pd.DataFrame(classr).T"
   ]
  },
  {
   "cell_type": "code",
   "execution_count": 66,
   "id": "e5c6320e-f341-4195-8292-e93bb826bbcc",
   "metadata": {},
   "outputs": [
    {
     "name": "stdout",
     "output_type": "stream",
     "text": [
      "Confusion Matrix:\n",
      "[[277  30]\n",
      " [ 57 134]]\n"
     ]
    }
   ],
   "source": [
    "print('Confusion Matrix:')\n",
    "print(confusion_matrix(y_train, y_preds))"
   ]
  },
  {
   "cell_type": "code",
   "execution_count": 68,
   "id": "8eda6334-220b-47f8-82dc-e6ba955e6771",
   "metadata": {},
   "outputs": [],
   "source": [
    "# From review\n",
    "# Allows to view my confusion matrix as a dataframe for easier readability\n",
    "rubric = pd.DataFrame( {'pred_0': ['True Negative', 'False Negative'],\n",
    "                        'pred_1': ['False Positive', 'True Positive']},\n",
    "                      index=['actual_0', 'actual_1'])"
   ]
  },
  {
   "cell_type": "code",
   "execution_count": 69,
   "id": "18ff07d8-3d7c-4367-8e26-4f374aa73094",
   "metadata": {},
   "outputs": [
    {
     "data": {
      "text/html": [
       "<div>\n",
       "<style scoped>\n",
       "    .dataframe tbody tr th:only-of-type {\n",
       "        vertical-align: middle;\n",
       "    }\n",
       "\n",
       "    .dataframe tbody tr th {\n",
       "        vertical-align: top;\n",
       "    }\n",
       "\n",
       "    .dataframe thead th {\n",
       "        text-align: right;\n",
       "    }\n",
       "</style>\n",
       "<table border=\"1\" class=\"dataframe\">\n",
       "  <thead>\n",
       "    <tr style=\"text-align: right;\">\n",
       "      <th></th>\n",
       "      <th>pred_0</th>\n",
       "      <th>pred_1</th>\n",
       "    </tr>\n",
       "  </thead>\n",
       "  <tbody>\n",
       "    <tr>\n",
       "      <th>actual_0</th>\n",
       "      <td>True Negative:277</td>\n",
       "      <td>False Positive:30</td>\n",
       "    </tr>\n",
       "    <tr>\n",
       "      <th>actual_1</th>\n",
       "      <td>False Negative:57</td>\n",
       "      <td>True Positive:134</td>\n",
       "    </tr>\n",
       "  </tbody>\n",
       "</table>\n",
       "</div>"
      ],
      "text/plain": [
       "                     pred_0             pred_1\n",
       "actual_0  True Negative:277  False Positive:30\n",
       "actual_1  False Negative:57  True Positive:134"
      ]
     },
     "execution_count": 69,
     "metadata": {},
     "output_type": "execute_result"
    }
   ],
   "source": [
    "cm = confusion_matrix(y_train, y_preds)\n",
    "\n",
    "rubric + ':' + cm.astype(str)"
   ]
  },
  {
   "cell_type": "markdown",
   "id": "374fba5f-891a-4499-b3be-acb54356b498",
   "metadata": {},
   "source": [
    "#### Exercise 4\n",
    "\n",
    "Compute: Accuracy, true positive rate, false positive rate, true negative rate, false negative rate, precision, recall, f1-score, and support."
   ]
  },
  {
   "cell_type": "code",
   "execution_count": 80,
   "id": "cd90bba5-e0e4-4fc4-a65a-b860bd0c022a",
   "metadata": {},
   "outputs": [],
   "source": [
    " #returns an array from my confusion matrix\n",
    "TN, FP, FN, TP = cm.ravel()"
   ]
  },
  {
   "cell_type": "code",
   "execution_count": 81,
   "id": "5de5158f-c732-4918-8dce-d9c8b154695b",
   "metadata": {},
   "outputs": [],
   "source": [
    "All = TP + TN + FP +FN\n",
    "acc = (TP + TN) / All\n",
    "recall = TP/ (TP +FN)\n",
    "precision = TP / (TP + FP)\n",
    "FPR = false_pos_rate = FP/ (FP + TN)\n",
    "TNR = true_neg_rate = TN/ (TN +FP)\n",
    "FNR = false_neg_rate = FN/ (FN +TP)\n",
    "f1_score = 2 * ((precision*recall)/ (precision+recall))\n",
    "support_pos = TP + FN\n",
    "support_neg = FP + TN"
   ]
  },
  {
   "cell_type": "code",
   "execution_count": 87,
   "id": "d4321ce7-29fb-4dad-8feb-6983a680b1d4",
   "metadata": {},
   "outputs": [
    {
     "name": "stdout",
     "output_type": "stream",
     "text": [
      "Accuracy: 82.53%,\n",
      "Recall: 70.16%,\n",
      "Precision: 81.71%,\n",
      "False Positive Rate: 9.77%,\n",
      "True Negative Rate: 90.23%,\n",
      "False Negative Rate: 29.84%,\n",
      "F-1 Score: 75.49%,\n",
      "Positive Support: 191,\n",
      "Negative Support: 307\n"
     ]
    }
   ],
   "source": [
    "print(f'''Accuracy: {acc:.2%},\n",
    "Recall: {recall:.2%},\n",
    "Precision: {precision:.2%},\n",
    "False Positive Rate: {FPR:.2%},\n",
    "True Negative Rate: {TNR:.2%},\n",
    "False Negative Rate: {FNR:.2%},\n",
    "F-1 Score: {f1_score:.2%},\n",
    "Positive Support: {support_pos},\n",
    "Negative Support: {support_neg}''')"
   ]
  },
  {
   "cell_type": "markdown",
   "id": "deca8112-48e6-4177-b63f-cebee1831692",
   "metadata": {},
   "source": [
    "#### Exercise 5\n",
    "Run through steps 2-4 using a different max_depth value."
   ]
  },
  {
   "cell_type": "code",
   "execution_count": 106,
   "id": "b794ce4c-61d6-4d04-a4ca-d655e26f52aa",
   "metadata": {},
   "outputs": [],
   "source": [
    "christmas=[]\n",
    "for i in range(1,9):\n",
    "    # make the thing\n",
    "    tree=DecisionTreeClassifier(max_depth= i, random_state= 123)\n",
    "    # fit the thing \n",
    "    tree.fit(X_train, y_train)\n",
    "    # use the thing to evaluate model performance\n",
    "    out_of_sample= tree.score(X_test, y_test)\n",
    "    in_sample=tree.score(X_train, y_train)\n",
    "    difference= in_sample - out_of_sample\n",
    "    acc = (TP + TN) / All\n",
    "    recall = TP/ (TP +FN)\n",
    "    precision = TP / (TP + FP)\n",
    "    FPR = false_pos_rate = FP/ (FP + TN)\n",
    "    TNR = true_neg_rate = TN/ (TN +FP)\n",
    "    FNR = false_neg_rate = FN/ (FN +TP)\n",
    "    f1_score = 2 * ((precision*recall)/ (precision+recall))\n",
    "    support_pos = TP + FN\n",
    "    support_neg = FP + TN\n",
    "    #labeling columns for table\n",
    "    heads= {'max_depth': {i}, \n",
    "            'train_accuracy' : in_sample,\n",
    "            'test_accuracy' : out_of_sample,\n",
    "            'train_test_difference' : difference\n",
    "           }\n",
    "    christmas.append(heads)\n",
    "willow = pd.DataFrame(christmas)\n",
    "cm = classification_report(y_train, y_preds, output_dict=True)"
   ]
  },
  {
   "cell_type": "code",
   "execution_count": 96,
   "id": "284aeb7e-a58c-4a67-beb6-7271016f1465",
   "metadata": {},
   "outputs": [
    {
     "data": {
      "text/html": [
       "<div>\n",
       "<style scoped>\n",
       "    .dataframe tbody tr th:only-of-type {\n",
       "        vertical-align: middle;\n",
       "    }\n",
       "\n",
       "    .dataframe tbody tr th {\n",
       "        vertical-align: top;\n",
       "    }\n",
       "\n",
       "    .dataframe thead th {\n",
       "        text-align: right;\n",
       "    }\n",
       "</style>\n",
       "<table border=\"1\" class=\"dataframe\">\n",
       "  <thead>\n",
       "    <tr style=\"text-align: right;\">\n",
       "      <th></th>\n",
       "      <th>max_depth</th>\n",
       "      <th>train_accuracy</th>\n",
       "      <th>test_accuracy</th>\n",
       "      <th>train_test_difference</th>\n",
       "    </tr>\n",
       "  </thead>\n",
       "  <tbody>\n",
       "    <tr>\n",
       "      <th>0</th>\n",
       "      <td>{1}</td>\n",
       "      <td>0.799197</td>\n",
       "      <td>0.782123</td>\n",
       "      <td>0.017074</td>\n",
       "    </tr>\n",
       "    <tr>\n",
       "      <th>1</th>\n",
       "      <td>{2}</td>\n",
       "      <td>0.799197</td>\n",
       "      <td>0.782123</td>\n",
       "      <td>0.017074</td>\n",
       "    </tr>\n",
       "    <tr>\n",
       "      <th>2</th>\n",
       "      <td>{3}</td>\n",
       "      <td>0.825301</td>\n",
       "      <td>0.798883</td>\n",
       "      <td>0.026419</td>\n",
       "    </tr>\n",
       "    <tr>\n",
       "      <th>3</th>\n",
       "      <td>{4}</td>\n",
       "      <td>0.835341</td>\n",
       "      <td>0.804469</td>\n",
       "      <td>0.030872</td>\n",
       "    </tr>\n",
       "    <tr>\n",
       "      <th>4</th>\n",
       "      <td>{5}</td>\n",
       "      <td>0.853414</td>\n",
       "      <td>0.821229</td>\n",
       "      <td>0.032185</td>\n",
       "    </tr>\n",
       "    <tr>\n",
       "      <th>5</th>\n",
       "      <td>{6}</td>\n",
       "      <td>0.865462</td>\n",
       "      <td>0.810056</td>\n",
       "      <td>0.055406</td>\n",
       "    </tr>\n",
       "    <tr>\n",
       "      <th>6</th>\n",
       "      <td>{7}</td>\n",
       "      <td>0.885542</td>\n",
       "      <td>0.754190</td>\n",
       "      <td>0.131352</td>\n",
       "    </tr>\n",
       "    <tr>\n",
       "      <th>7</th>\n",
       "      <td>{8}</td>\n",
       "      <td>0.897590</td>\n",
       "      <td>0.776536</td>\n",
       "      <td>0.121054</td>\n",
       "    </tr>\n",
       "  </tbody>\n",
       "</table>\n",
       "</div>"
      ],
      "text/plain": [
       "  max_depth  train_accuracy  test_accuracy  train_test_difference\n",
       "0       {1}        0.799197       0.782123               0.017074\n",
       "1       {2}        0.799197       0.782123               0.017074\n",
       "2       {3}        0.825301       0.798883               0.026419\n",
       "3       {4}        0.835341       0.804469               0.030872\n",
       "4       {5}        0.853414       0.821229               0.032185\n",
       "5       {6}        0.865462       0.810056               0.055406\n",
       "6       {7}        0.885542       0.754190               0.131352\n",
       "7       {8}        0.897590       0.776536               0.121054"
      ]
     },
     "execution_count": 96,
     "metadata": {},
     "output_type": "execute_result"
    }
   ],
   "source": [
    "willow"
   ]
  },
  {
   "cell_type": "markdown",
   "id": "93e54079-23fb-40e5-b9aa-df31fd46e536",
   "metadata": {},
   "source": [
    "#### Exercise 6/7\n",
    "\n",
    "\n",
    "Which model performs better on your in-sample data?\n",
    "\n",
    "A: Model with max depth of 7\n",
    "    \n",
    "    \n",
    "Which model performs best on your out-of-sample data, the validate set?\n",
    "\n",
    "A: Model with max depth of 5"
   ]
  }
 ],
 "metadata": {
  "kernelspec": {
   "display_name": "Python 3 (ipykernel)",
   "language": "python",
   "name": "python3"
  },
  "language_info": {
   "codemirror_mode": {
    "name": "ipython",
    "version": 3
   },
   "file_extension": ".py",
   "mimetype": "text/x-python",
   "name": "python",
   "nbconvert_exporter": "python",
   "pygments_lexer": "ipython3",
   "version": "3.9.13"
  }
 },
 "nbformat": 4,
 "nbformat_minor": 5
}
