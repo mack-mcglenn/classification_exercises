{
 "cells": [
  {
   "cell_type": "code",
   "execution_count": 24,
   "id": "0f6a2484",
   "metadata": {},
   "outputs": [],
   "source": [
    "import os\n",
    "import numpy as np\n",
    "import env\n",
    "import pandas as pd\n",
    "import matplotlib as plt\n",
    "import seaborn as  sb\n",
    "import scipy.stats as stats\n",
    "from pydataset import data"
   ]
  },
  {
   "cell_type": "code",
   "execution_count": 31,
   "id": "47d3e611",
   "metadata": {},
   "outputs": [],
   "source": [
    "def connect(db):\n",
    "    \n",
    "    \"\"\"This function will pull the information from my env file (username, password, host,\n",
    "    database) to connect to Codeup's MySQL database\"\"\"\n",
    "    \n",
    "    return f'mysql+pymysql://{env.user}:{env.password}@{env.host}/{db}'\n"
   ]
  },
  {
   "cell_type": "code",
   "execution_count": 32,
   "id": "fba5af1f",
   "metadata": {},
   "outputs": [],
   "source": [
    "\n",
    "def get_titanic_data():\n",
    "    \n",
    "    \"\"\"This function will confirm whether or not there is a local csv containing the titanic\n",
    "    dataset. If no such csv exists locally, this function will pull the titanic data from\n",
    "    Codeup's MySQL database and return as a dataframe based on the credentials provided in \n",
    "    the env.py file in use\"\"\"\n",
    "\n",
    "    if os.path.isfile('titanic.csv'):\n",
    "        df = pd.read_csv('titanic.csv', index_col=0)\n",
    "    else:\n",
    "        query = \"\"\"select * from passengers\"\"\"\n",
    "        connection = connect('titanic_db')\n",
    "        df = pd.read_sql(query, connection)\n",
    "        df.to_csv('titanic.csv')\n",
    "    return df\n",
    "\n",
    "    "
   ]
  },
  {
   "cell_type": "code",
   "execution_count": 29,
   "id": "8bdabfae",
   "metadata": {},
   "outputs": [],
   "source": [
    "paint_me = get_titanic_data()"
   ]
  },
  {
   "cell_type": "code",
   "execution_count": 30,
   "id": "3c826a0c",
   "metadata": {},
   "outputs": [
    {
     "data": {
      "text/plain": [
       "True"
      ]
     },
     "execution_count": 30,
     "metadata": {},
     "output_type": "execute_result"
    }
   ],
   "source": [
    "os.path.exists('titanic.csv')"
   ]
  },
  {
   "cell_type": "code",
   "execution_count": 33,
   "id": "f215e5d2",
   "metadata": {},
   "outputs": [],
   "source": [
    "\n",
    "def get_iris_data():\n",
    "    \n",
    "    \"\"\"This function will check whether or not there is a csv for the iris data saved locally\n",
    "    If no such csv exists locally, this function will pull the iris data from\n",
    "    Codeup's MySQL database and return as a dataframe based on the credentials provided in \n",
    "    the env.py file in use\"\"\"\n",
    "    \n",
    "    if os.path.isfile('iris.csv'):\n",
    "        df = pd.read_csv('iris.csv', index_col=0)\n",
    "    else:\n",
    "        query = \"\"\"select * from measurements\n",
    "        join species using (species_id)\"\"\"\n",
    "        connection = connect('iris_db')\n",
    "        df = pd.read_sql(query, connection)\n",
    "        df.to_csv('iris.csv')\n",
    "    return df"
   ]
  },
  {
   "cell_type": "code",
   "execution_count": 34,
   "id": "9ded6770",
   "metadata": {},
   "outputs": [],
   "source": [
    "sleepingsickness = get_iris_data()"
   ]
  },
  {
   "cell_type": "code",
   "execution_count": 35,
   "id": "56f8cc98",
   "metadata": {},
   "outputs": [
    {
     "data": {
      "text/plain": [
       "True"
      ]
     },
     "execution_count": 35,
     "metadata": {},
     "output_type": "execute_result"
    }
   ],
   "source": [
    "os.path.exists('iris.csv')"
   ]
  },
  {
   "cell_type": "code",
   "execution_count": 67,
   "id": "e5a88598",
   "metadata": {},
   "outputs": [],
   "source": [
    "\n",
    "def get_telco_data():\n",
    "    \"\"\"This function will check whether or not there is a csv for the telco data saved \n",
    "      locally. If no such csv exists locally, this function will pull the telco data from\n",
    "    Codeup's MySQL database and return as a dataframe based on the credentials provided in \n",
    "    the env.py file in use\"\"\"\n",
    "\n",
    "    if os.path.isfile('telco.csv'):\n",
    "        df = pd.read_csv('telco.csv', index_col=0)\n",
    "    else:\n",
    "        query = \"\"\"select * from customers\n",
    "        join contract_types using (contract_type_id)\n",
    "        join internet_service_types using (internet_service_type_id)\n",
    "        join payment_types using (payment_type_id)\"\"\"\n",
    "        connection = connect('telco_churn')\n",
    "        df = pd.read_sql(query, connection)\n",
    "        df.to_csv('telco.csv')\n",
    "    return df"
   ]
  },
  {
   "cell_type": "code",
   "execution_count": 70,
   "id": "0aabe35b",
   "metadata": {},
   "outputs": [],
   "source": [
    "telcodf = get_telco_data()"
   ]
  },
  {
   "cell_type": "code",
   "execution_count": 72,
   "id": "6988f26d",
   "metadata": {},
   "outputs": [
    {
     "data": {
      "text/plain": [
       "True"
      ]
     },
     "execution_count": 72,
     "metadata": {},
     "output_type": "execute_result"
    }
   ],
   "source": [
    "os.path.exists('telco.csv')"
   ]
  }
 ],
 "metadata": {
  "kernelspec": {
   "display_name": "Python 3 (ipykernel)",
   "language": "python",
   "name": "python3"
  },
  "language_info": {
   "codemirror_mode": {
    "name": "ipython",
    "version": 3
   },
   "file_extension": ".py",
   "mimetype": "text/x-python",
   "name": "python",
   "nbconvert_exporter": "python",
   "pygments_lexer": "ipython3",
   "version": "3.9.13"
  }
 },
 "nbformat": 4,
 "nbformat_minor": 5
}
